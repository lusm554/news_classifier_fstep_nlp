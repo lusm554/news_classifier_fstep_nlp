{
 "cells": [
  {
   "cell_type": "code",
   "execution_count": 3,
   "id": "a338162a-7f89-4829-93e8-d2b8c2dd39d2",
   "metadata": {
    "scrolled": true
   },
   "outputs": [
    {
     "name": "stdout",
     "output_type": "stream",
     "text": [
      "Collecting pandas\n",
      "  Downloading pandas-2.2.3-cp311-cp311-manylinux2014_aarch64.manylinux_2_17_aarch64.whl.metadata (89 kB)\n",
      "Collecting scikit-learn\n",
      "  Downloading scikit_learn-1.5.2-cp311-cp311-manylinux_2_17_aarch64.manylinux2014_aarch64.whl.metadata (13 kB)\n",
      "Collecting numpy>=1.23.2 (from pandas)\n",
      "  Downloading numpy-2.1.1-cp311-cp311-manylinux_2_17_aarch64.manylinux2014_aarch64.whl.metadata (62 kB)\n",
      "Requirement already satisfied: python-dateutil>=2.8.2 in /opt/conda/lib/python3.11/site-packages (from pandas) (2.9.0)\n",
      "Requirement already satisfied: pytz>=2020.1 in /opt/conda/lib/python3.11/site-packages (from pandas) (2024.2)\n",
      "Collecting tzdata>=2022.7 (from pandas)\n",
      "  Downloading tzdata-2024.2-py2.py3-none-any.whl.metadata (1.4 kB)\n",
      "Collecting scipy>=1.6.0 (from scikit-learn)\n",
      "  Downloading scipy-1.14.1-cp311-cp311-manylinux_2_17_aarch64.manylinux2014_aarch64.whl.metadata (60 kB)\n",
      "Collecting joblib>=1.2.0 (from scikit-learn)\n",
      "  Downloading joblib-1.4.2-py3-none-any.whl.metadata (5.4 kB)\n",
      "Collecting threadpoolctl>=3.1.0 (from scikit-learn)\n",
      "  Downloading threadpoolctl-3.5.0-py3-none-any.whl.metadata (13 kB)\n",
      "Requirement already satisfied: six>=1.5 in /opt/conda/lib/python3.11/site-packages (from python-dateutil>=2.8.2->pandas) (1.16.0)\n",
      "Downloading pandas-2.2.3-cp311-cp311-manylinux2014_aarch64.manylinux_2_17_aarch64.whl (15.6 MB)\n",
      "\u001b[2K   \u001b[90m━━━━━━━━━━━━━━━━━━━━━━━━━━━━━━━━━━━━━━━━\u001b[0m \u001b[32m15.6/15.6 MB\u001b[0m \u001b[31m3.5 MB/s\u001b[0m eta \u001b[36m0:00:00\u001b[0m00:01\u001b[0m00:01\u001b[0m\n",
      "\u001b[?25hDownloading scikit_learn-1.5.2-cp311-cp311-manylinux_2_17_aarch64.manylinux2014_aarch64.whl (12.5 MB)\n",
      "\u001b[2K   \u001b[90m━━━━━━━━━━━━━━━━━━━━━━━━━━━━━━━━━━━━━━━━\u001b[0m \u001b[32m12.5/12.5 MB\u001b[0m \u001b[31m3.7 MB/s\u001b[0m eta \u001b[36m0:00:00\u001b[0m00:01\u001b[0m00:01\u001b[0m\n",
      "\u001b[?25hDownloading joblib-1.4.2-py3-none-any.whl (301 kB)\n",
      "Downloading numpy-2.1.1-cp311-cp311-manylinux_2_17_aarch64.manylinux2014_aarch64.whl (14.0 MB)\n",
      "\u001b[2K   \u001b[90m━━━━━━━━━━━━━━━━━━━━━━━━━━━━━━━━━━━━━━━━\u001b[0m \u001b[32m14.0/14.0 MB\u001b[0m \u001b[31m3.7 MB/s\u001b[0m eta \u001b[36m0:00:00\u001b[0ma \u001b[36m0:00:01\u001b[0m\n",
      "\u001b[?25hDownloading scipy-1.14.1-cp311-cp311-manylinux_2_17_aarch64.manylinux2014_aarch64.whl (35.6 MB)\n",
      "\u001b[2K   \u001b[90m━━━━━━━━━━━━━━━━━━━━━━━━━━━━━━━━━━━━━━━━\u001b[0m \u001b[32m35.6/35.6 MB\u001b[0m \u001b[31m3.7 MB/s\u001b[0m eta \u001b[36m0:00:00\u001b[0m00:01\u001b[0m00:01\u001b[0m\n",
      "\u001b[?25hDownloading threadpoolctl-3.5.0-py3-none-any.whl (18 kB)\n",
      "Downloading tzdata-2024.2-py2.py3-none-any.whl (346 kB)\n",
      "Installing collected packages: tzdata, threadpoolctl, numpy, joblib, scipy, pandas, scikit-learn\n",
      "Successfully installed joblib-1.4.2 numpy-2.1.1 pandas-2.2.3 scikit-learn-1.5.2 scipy-1.14.1 threadpoolctl-3.5.0 tzdata-2024.2\n"
     ]
    }
   ],
   "source": [
    "!pip install pandas scikit-learn"
   ]
  },
  {
   "cell_type": "code",
   "execution_count": 4,
   "id": "34a63e19-a0c4-4166-a3d8-de3f790c857c",
   "metadata": {},
   "outputs": [],
   "source": [
    "import pandas as pd"
   ]
  },
  {
   "cell_type": "code",
   "execution_count": 5,
   "id": "db246bab-64d2-4612-b15d-3410b6949906",
   "metadata": {},
   "outputs": [
    {
     "name": "stdout",
     "output_type": "stream",
     "text": [
      "77M\tdata/test_news.csv\n",
      "177M\tdata/train_news.csv\n",
      "252M\tdata/train_raw\n"
     ]
    }
   ],
   "source": [
    "!du -hs data/*"
   ]
  },
  {
   "cell_type": "code",
   "execution_count": 28,
   "id": "885bda92-784a-4615-9b4f-49d93a9f437b",
   "metadata": {},
   "outputs": [
    {
     "data": {
      "text/plain": [
       "((77500, 3), (26275, 1))"
      ]
     },
     "execution_count": 28,
     "metadata": {},
     "output_type": "execute_result"
    }
   ],
   "source": [
    "train = pd.read_csv('data/train_news.csv')\n",
    "train.shape"
   ]
  },
  {
   "cell_type": "markdown",
   "id": "c41d930d-9298-4fde-a092-1ccb733995c4",
   "metadata": {
    "jp-MarkdownHeadingCollapsed": true
   },
   "source": [
    "# EDA"
   ]
  },
  {
   "cell_type": "code",
   "execution_count": 14,
   "id": "0e4ec250-ad67-49d1-a644-f58da3060ad8",
   "metadata": {},
   "outputs": [
    {
     "data": {
      "text/plain": [
       "target  news_topic        \n",
       "1       Общество/Россия       10000\n",
       "3       Бывший СССР           10000\n",
       "5       Наука и техника       10000\n",
       "8       Спорт                 10000\n",
       "37      Силовые структуры     10000\n",
       "48      Туризм/Путешествия    10000\n",
       "87      Забота о себе         10000\n",
       "4       Экономика              7500\n",
       "Name: count, dtype: int64"
      ]
     },
     "execution_count": 14,
     "metadata": {},
     "output_type": "execute_result"
    }
   ],
   "source": [
    "train[['target', 'news_topic']].value_counts()"
   ]
  },
  {
   "cell_type": "code",
   "execution_count": 34,
   "id": "b340eaf5-116c-4840-b438-ea203eb4128d",
   "metadata": {},
   "outputs": [
    {
     "data": {
      "text/plain": [
       "True     72314\n",
       "False     5186\n",
       "Name: count, dtype: int64"
      ]
     },
     "execution_count": 34,
     "metadata": {},
     "output_type": "execute_result"
    }
   ],
   "source": [
    "train.apply(lambda x: 'фото:' in x.text.lower(), axis=1).value_counts()"
   ]
  },
  {
   "cell_type": "code",
   "execution_count": 35,
   "id": "fac0f44a-a32d-4354-9137-264fb628fa89",
   "metadata": {},
   "outputs": [
    {
     "data": {
      "text/plain": [
       "True     67049\n",
       "False    10451\n",
       "Name: count, dtype: int64"
      ]
     },
     "execution_count": 35,
     "metadata": {},
     "output_type": "execute_result"
    }
   ],
   "source": [
    "train.apply(lambda x:  x.text.lower().startswith('фото:'), axis=1).value_counts()"
   ]
  },
  {
   "cell_type": "code",
   "execution_count": 53,
   "id": "8a6627d3-6623-40f7-8245-f42c0c33f30a",
   "metadata": {},
   "outputs": [
    {
     "data": {
      "text/html": [
       "<div>\n",
       "<style scoped>\n",
       "    .dataframe tbody tr th:only-of-type {\n",
       "        vertical-align: middle;\n",
       "    }\n",
       "\n",
       "    .dataframe tbody tr th {\n",
       "        vertical-align: top;\n",
       "    }\n",
       "\n",
       "    .dataframe thead th {\n",
       "        text-align: right;\n",
       "    }\n",
       "</style>\n",
       "<table border=\"1\" class=\"dataframe\">\n",
       "  <thead>\n",
       "    <tr style=\"text-align: right;\">\n",
       "      <th></th>\n",
       "      <th></th>\n",
       "      <th>mean</th>\n",
       "      <th>max</th>\n",
       "      <th>min</th>\n",
       "    </tr>\n",
       "    <tr>\n",
       "      <th>news_topic</th>\n",
       "      <th>target</th>\n",
       "      <th></th>\n",
       "      <th></th>\n",
       "      <th></th>\n",
       "    </tr>\n",
       "  </thead>\n",
       "  <tbody>\n",
       "    <tr>\n",
       "      <th>Забота о себе</th>\n",
       "      <th>87</th>\n",
       "      <td>1557.0</td>\n",
       "      <td>8916</td>\n",
       "      <td>621</td>\n",
       "    </tr>\n",
       "    <tr>\n",
       "      <th>Экономика</th>\n",
       "      <th>4</th>\n",
       "      <td>1446.0</td>\n",
       "      <td>8943</td>\n",
       "      <td>267</td>\n",
       "    </tr>\n",
       "    <tr>\n",
       "      <th>Наука и техника</th>\n",
       "      <th>5</th>\n",
       "      <td>1329.0</td>\n",
       "      <td>7814</td>\n",
       "      <td>361</td>\n",
       "    </tr>\n",
       "    <tr>\n",
       "      <th>Общество/Россия</th>\n",
       "      <th>1</th>\n",
       "      <td>1247.0</td>\n",
       "      <td>11641</td>\n",
       "      <td>292</td>\n",
       "    </tr>\n",
       "    <tr>\n",
       "      <th>Туризм/Путешествия</th>\n",
       "      <th>48</th>\n",
       "      <td>1133.0</td>\n",
       "      <td>8639</td>\n",
       "      <td>329</td>\n",
       "    </tr>\n",
       "    <tr>\n",
       "      <th>Силовые структуры</th>\n",
       "      <th>37</th>\n",
       "      <td>1025.0</td>\n",
       "      <td>6438</td>\n",
       "      <td>289</td>\n",
       "    </tr>\n",
       "    <tr>\n",
       "      <th>Бывший СССР</th>\n",
       "      <th>3</th>\n",
       "      <td>988.0</td>\n",
       "      <td>7922</td>\n",
       "      <td>267</td>\n",
       "    </tr>\n",
       "    <tr>\n",
       "      <th>Спорт</th>\n",
       "      <th>8</th>\n",
       "      <td>964.0</td>\n",
       "      <td>5550</td>\n",
       "      <td>447</td>\n",
       "    </tr>\n",
       "  </tbody>\n",
       "</table>\n",
       "</div>"
      ],
      "text/plain": [
       "                             mean    max  min\n",
       "news_topic         target                    \n",
       "Забота о себе      87      1557.0   8916  621\n",
       "Экономика          4       1446.0   8943  267\n",
       "Наука и техника    5       1329.0   7814  361\n",
       "Общество/Россия    1       1247.0  11641  292\n",
       "Туризм/Путешествия 48      1133.0   8639  329\n",
       "Силовые структуры  37      1025.0   6438  289\n",
       "Бывший СССР        3        988.0   7922  267\n",
       "Спорт              8        964.0   5550  447"
      ]
     },
     "execution_count": 53,
     "metadata": {},
     "output_type": "execute_result"
    }
   ],
   "source": [
    "train.text.str.len().groupby([train.news_topic, train.target]).agg(['mean', 'max', 'min']).round().sort_values(by='mean', ascending=False)"
   ]
  },
  {
   "cell_type": "code",
   "execution_count": 54,
   "id": "b75b647b-1e9a-4c8d-ae2b-9a3097e5e84a",
   "metadata": {},
   "outputs": [
    {
     "data": {
      "text/plain": [
       "target        0\n",
       "news_topic    0\n",
       "text          0\n",
       "dtype: int64"
      ]
     },
     "execution_count": 54,
     "metadata": {},
     "output_type": "execute_result"
    }
   ],
   "source": [
    "train.isna().sum()"
   ]
  },
  {
   "cell_type": "markdown",
   "id": "8d1fa5f2-1a9c-49b7-8227-b48b9f78ed7b",
   "metadata": {},
   "source": [
    "# Clf"
   ]
  },
  {
   "cell_type": "code",
   "execution_count": 17,
   "id": "d52ae0fc-f79a-4826-82cf-07f0eec55233",
   "metadata": {},
   "outputs": [],
   "source": [
    "from sklearn.model_selection import train_test_split\n",
    "from sklearn.feature_extraction.text import CountVectorizer\n",
    "from sklearn.preprocessing import MaxAbsScaler\n",
    "from sklearn.linear_model import LogisticRegression\n",
    "from sklearn.metrics import classification_report\n",
    "from sklearn.pipeline import Pipeline\n",
    "rstate = 0"
   ]
  },
  {
   "cell_type": "code",
   "execution_count": 18,
   "id": "d61877e5-7cb2-499f-84c0-91a968df0a49",
   "metadata": {},
   "outputs": [
    {
     "data": {
      "text/plain": [
       "((77500,), (77500,))"
      ]
     },
     "execution_count": 18,
     "metadata": {},
     "output_type": "execute_result"
    }
   ],
   "source": [
    "X, y = train.text, train.target\n",
    "X.shape, y.shape"
   ]
  },
  {
   "cell_type": "code",
   "execution_count": 19,
   "id": "006a1a42-f80f-423f-bc21-01b9056d962f",
   "metadata": {},
   "outputs": [
    {
     "data": {
      "text/plain": [
       "((62000,), (15500,))"
      ]
     },
     "execution_count": 19,
     "metadata": {},
     "output_type": "execute_result"
    }
   ],
   "source": [
    "X_train, X_test, y_train, y_test = train_test_split(X, y, test_size=.2, random_state=rstate, stratify=y)\n",
    "X_train.shape, X_test.shape"
   ]
  },
  {
   "cell_type": "markdown",
   "id": "fcce0ee0-a693-4561-823d-c517f866e873",
   "metadata": {},
   "source": [
    "# Bag of words"
   ]
  },
  {
   "cell_type": "code",
   "execution_count": 20,
   "id": "062493dc-ff0c-46e2-8114-a0c8a5803671",
   "metadata": {},
   "outputs": [
    {
     "name": "stdout",
     "output_type": "stream",
     "text": [
      "CPU times: user 14.2 s, sys: 33.2 ms, total: 14.3 s\n",
      "Wall time: 14.3 s\n"
     ]
    }
   ],
   "source": [
    "%%time\n",
    "bow_proc_pipe = Pipeline(\n",
    "    steps=[\n",
    "        ('bow', CountVectorizer()),\n",
    "        ('scaler', MaxAbsScaler()),\n",
    "    ]\n",
    ")\n",
    "bow_proc_pipe.fit(X_train)\n",
    "bow_x_train, bow_x_test = bow_proc_pipe.transform(X_train), bow_proc_pipe.transform(X_test)"
   ]
  },
  {
   "cell_type": "code",
   "execution_count": 25,
   "id": "01f68ce9-7935-4ff1-a7da-67f6b6242fc9",
   "metadata": {},
   "outputs": [
    {
     "name": "stdout",
     "output_type": "stream",
     "text": [
      "Test\n",
      "               precision    recall  f1-score   support\n",
      "\n",
      "           1       0.90      0.90      0.90      2000\n",
      "           3       0.94      0.95      0.95      2000\n",
      "           4       0.95      0.95      0.95      1500\n",
      "           5       0.98      0.97      0.98      2000\n",
      "           8       1.00      0.99      0.99      2000\n",
      "          37       0.97      0.97      0.97      2000\n",
      "          48       0.98      0.98      0.98      2000\n",
      "          87       0.99      0.99      0.99      2000\n",
      "\n",
      "    accuracy                           0.96     15500\n",
      "   macro avg       0.96      0.96      0.96     15500\n",
      "weighted avg       0.96      0.96      0.96     15500\n",
      "\n",
      "Train\n",
      "               precision    recall  f1-score   support\n",
      "\n",
      "           1       1.00      1.00      1.00      8000\n",
      "           3       1.00      1.00      1.00      8000\n",
      "           4       1.00      1.00      1.00      6000\n",
      "           5       1.00      1.00      1.00      8000\n",
      "           8       1.00      1.00      1.00      8000\n",
      "          37       1.00      1.00      1.00      8000\n",
      "          48       1.00      1.00      1.00      8000\n",
      "          87       1.00      1.00      1.00      8000\n",
      "\n",
      "    accuracy                           1.00     62000\n",
      "   macro avg       1.00      1.00      1.00     62000\n",
      "weighted avg       1.00      1.00      1.00     62000\n",
      "\n",
      "CPU times: user 2min 13s, sys: 265 ms, total: 2min 14s\n",
      "Wall time: 16.6 s\n"
     ]
    }
   ],
   "source": [
    "%%time\n",
    "log_reg_clf = LogisticRegression(max_iter=200, random_state=42)\n",
    "log_reg_clf.fit(bow_x_train, y_train)\n",
    "log_reg_pred_test = log_reg_clf.predict(bow_x_test)\n",
    "log_reg_pred_train = log_reg_clf.predict(bow_x_train)\n",
    "print('Test\\n', classification_report(y_test, log_reg_pred_test))\n",
    "print('Train\\n', classification_report(y_train, log_reg_pred_train))"
   ]
  },
  {
   "cell_type": "markdown",
   "id": "dfa0e080-d7d2-41b7-95da-7d2217221e59",
   "metadata": {},
   "source": [
    "## Score kaggle test dataset"
   ]
  },
  {
   "cell_type": "code",
   "execution_count": 40,
   "id": "7f6a40f5-ad93-49c0-b131-e20d00276e28",
   "metadata": {},
   "outputs": [
    {
     "name": "stdout",
     "output_type": "stream",
     "text": [
      "CPU times: user 4.04 s, sys: 64.9 ms, total: 4.11 s\n",
      "Wall time: 4.14 s\n"
     ]
    },
    {
     "data": {
      "text/html": [
       "<div>\n",
       "<style scoped>\n",
       "    .dataframe tbody tr th:only-of-type {\n",
       "        vertical-align: middle;\n",
       "    }\n",
       "\n",
       "    .dataframe tbody tr th {\n",
       "        vertical-align: top;\n",
       "    }\n",
       "\n",
       "    .dataframe thead th {\n",
       "        text-align: right;\n",
       "    }\n",
       "</style>\n",
       "<table border=\"1\" class=\"dataframe\">\n",
       "  <thead>\n",
       "    <tr style=\"text-align: right;\">\n",
       "      <th></th>\n",
       "      <th>content</th>\n",
       "      <th>pred</th>\n",
       "    </tr>\n",
       "  </thead>\n",
       "  <tbody>\n",
       "    <tr>\n",
       "      <th>0</th>\n",
       "      <td>Фото: «Фонтанка.ру»ПоделитьсяЭкс-министру обор...</td>\n",
       "      <td>48</td>\n",
       "    </tr>\n",
       "    <tr>\n",
       "      <th>1</th>\n",
       "      <td>В начале февраля 2023 года в Пушкинском районе...</td>\n",
       "      <td>4</td>\n",
       "    </tr>\n",
       "    <tr>\n",
       "      <th>2</th>\n",
       "      <td>Фото: Andy Bao / Getty Images Анастасия Борисо...</td>\n",
       "      <td>8</td>\n",
       "    </tr>\n",
       "    <tr>\n",
       "      <th>3</th>\n",
       "      <td>Если вы хотели, но так и не съездили на море л...</td>\n",
       "      <td>48</td>\n",
       "    </tr>\n",
       "    <tr>\n",
       "      <th>4</th>\n",
       "      <td>Сергей Пиняев Фото: Алексей Филиппов / РИА Нов...</td>\n",
       "      <td>8</td>\n",
       "    </tr>\n",
       "    <tr>\n",
       "      <th>...</th>\n",
       "      <td>...</td>\n",
       "      <td>...</td>\n",
       "    </tr>\n",
       "    <tr>\n",
       "      <th>26270</th>\n",
       "      <td>Фото: РИА Новости Алевтина Запольская Главное ...</td>\n",
       "      <td>3</td>\n",
       "    </tr>\n",
       "    <tr>\n",
       "      <th>26271</th>\n",
       "      <td>Вадим Гутцайт Фото: Sergei CHUZAVKOV / Europea...</td>\n",
       "      <td>3</td>\n",
       "    </tr>\n",
       "    <tr>\n",
       "      <th>26272</th>\n",
       "      <td>Фото: Олег Харсеев / Коммерсантъ Александр Кур...</td>\n",
       "      <td>37</td>\n",
       "    </tr>\n",
       "    <tr>\n",
       "      <th>26273</th>\n",
       "      <td>Владимир Зеленский Фото: Yves Herman / Reuters...</td>\n",
       "      <td>3</td>\n",
       "    </tr>\n",
       "    <tr>\n",
       "      <th>26274</th>\n",
       "      <td>Фото: President of the Republic of Azerbaijan ...</td>\n",
       "      <td>3</td>\n",
       "    </tr>\n",
       "  </tbody>\n",
       "</table>\n",
       "<p>26275 rows × 2 columns</p>\n",
       "</div>"
      ],
      "text/plain": [
       "                                                 content  pred\n",
       "0      Фото: «Фонтанка.ру»ПоделитьсяЭкс-министру обор...    48\n",
       "1      В начале февраля 2023 года в Пушкинском районе...     4\n",
       "2      Фото: Andy Bao / Getty Images Анастасия Борисо...     8\n",
       "3      Если вы хотели, но так и не съездили на море л...    48\n",
       "4      Сергей Пиняев Фото: Алексей Филиппов / РИА Нов...     8\n",
       "...                                                  ...   ...\n",
       "26270  Фото: РИА Новости Алевтина Запольская Главное ...     3\n",
       "26271  Вадим Гутцайт Фото: Sergei CHUZAVKOV / Europea...     3\n",
       "26272  Фото: Олег Харсеев / Коммерсантъ Александр Кур...    37\n",
       "26273  Владимир Зеленский Фото: Yves Herman / Reuters...     3\n",
       "26274  Фото: President of the Republic of Azerbaijan ...     3\n",
       "\n",
       "[26275 rows x 2 columns]"
      ]
     },
     "execution_count": 40,
     "metadata": {},
     "output_type": "execute_result"
    }
   ],
   "source": [
    "%%time\n",
    "log_reg_bow_test = pd.read_csv('data/test_news.csv')\n",
    "log_reg_bow_test_proc = bow_proc_pipe.transform(log_reg_bow_test.content)\n",
    "test_pred = log_reg_clf.predict(log_reg_bow_test_proc)\n",
    "log_reg_bow_test['pred'] = test_pred\n",
    "log_reg_bow_test"
   ]
  },
  {
   "cell_type": "code",
   "execution_count": 44,
   "id": "57f4393c-846c-4fbf-aad3-62bbac76c321",
   "metadata": {},
   "outputs": [
    {
     "data": {
      "text/plain": [
       "pred\n",
       "0    7424\n",
       "1    5176\n",
       "2    2715\n",
       "3    3602\n",
       "4    2736\n",
       "5     906\n",
       "7    1777\n",
       "8    1939\n",
       "Name: count, dtype: int64"
      ]
     },
     "execution_count": 44,
     "metadata": {},
     "output_type": "execute_result"
    }
   ],
   "source": [
    "tags_map = {1 : 0, 3 : 3, 4 : 1, 5 : 8, 8 : 4, 37 : 2, 48 : 7, 87 : 5}\n",
    "log_reg_bow_test['pred'] = log_reg_bow_test.pred.map(tags_map)\n",
    "log_reg_bow_test.pred.value_counts().sort_index()"
   ]
  },
  {
   "cell_type": "code",
   "execution_count": 48,
   "id": "9d1792c8-2649-4a01-a2d9-334be9bd64fe",
   "metadata": {},
   "outputs": [
    {
     "name": "stdout",
     "output_type": "stream",
     "text": [
      "340K\tdata/results/log_reg_bow.csv\n"
     ]
    }
   ],
   "source": [
    "log_reg_bow_sub = log_reg_bow_test.reset_index().rename(columns={'pred': 'topic'})[['topic', 'index']]\n",
    "log_reg_bow_sub.to_csv('data/results/log_reg_bow.csv')\n",
    "!du -hs 'data/results/log_reg_bow.csv'"
   ]
  },
  {
   "cell_type": "code",
   "execution_count": 49,
   "id": "ca044395-6747-430e-abd7-75bdcfc29573",
   "metadata": {},
   "outputs": [
    {
     "data": {
      "text/plain": [
       "(26275, 2)"
      ]
     },
     "execution_count": 49,
     "metadata": {},
     "output_type": "execute_result"
    }
   ],
   "source": [
    "log_reg_bow_sub.shape"
   ]
  },
  {
   "cell_type": "code",
   "execution_count": 52,
   "id": "9c3076a9-12ab-44ff-a2bd-66caeae056e9",
   "metadata": {},
   "outputs": [
    {
     "name": "stdout",
     "output_type": "stream",
     "text": [
      "388K\tdata/results/log_reg_bow.csv\n"
     ]
    }
   ],
   "source": [
    "t = pd.read_csv('data/base_submission_news.csv')\n",
    "t['topic'] = log_reg_bow_sub.topic\n",
    "t.to_csv('data/results/log_reg_bow.csv')\n",
    "!du -hs 'data/results/log_reg_bow.csv'"
   ]
  },
  {
   "cell_type": "code",
   "execution_count": null,
   "id": "e5c725b3-63ea-4cfb-812e-0f2f65e51778",
   "metadata": {},
   "outputs": [],
   "source": []
  },
  {
   "cell_type": "code",
   "execution_count": null,
   "id": "43ef86ea-bd59-4511-977a-ba66bfd64e18",
   "metadata": {},
   "outputs": [],
   "source": []
  }
 ],
 "metadata": {
  "kernelspec": {
   "display_name": "Python 3 (ipykernel)",
   "language": "python",
   "name": "python3"
  },
  "language_info": {
   "codemirror_mode": {
    "name": "ipython",
    "version": 3
   },
   "file_extension": ".py",
   "mimetype": "text/x-python",
   "name": "python",
   "nbconvert_exporter": "python",
   "pygments_lexer": "ipython3",
   "version": "3.11.10"
  }
 },
 "nbformat": 4,
 "nbformat_minor": 5
}
