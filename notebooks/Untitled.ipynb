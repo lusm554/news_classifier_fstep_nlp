{
 "cells": [
  {
   "cell_type": "code",
   "execution_count": 1,
   "id": "fe5ef2a6-ab76-4962-9be1-9bc415de5446",
   "metadata": {},
   "outputs": [
    {
     "data": {
      "text/plain": [
       "'3.11.10 | packaged by conda-forge | (main, Sep 30 2024, 17:56:25) [GCC 13.3.0]'"
      ]
     },
     "execution_count": 1,
     "metadata": {},
     "output_type": "execute_result"
    }
   ],
   "source": [
    "import sys; sys.version"
   ]
  },
  {
   "cell_type": "code",
   "execution_count": 3,
   "id": "25b7e0a5-6463-43d4-94d4-847fd89c2730",
   "metadata": {},
   "outputs": [],
   "source": [
    "import pandas as pd\n",
    "import glob"
   ]
  },
  {
   "cell_type": "code",
   "execution_count": 23,
   "id": "4eefdb25-8a45-4107-9b7b-af3018aa73d6",
   "metadata": {},
   "outputs": [
    {
     "name": "stdout",
     "output_type": "stream",
     "text": [
      "16K\tdata/test.csv\n",
      "278M\tdata/train_raw\n"
     ]
    }
   ],
   "source": [
    "!du -hs data/*"
   ]
  },
  {
   "cell_type": "code",
   "execution_count": 51,
   "id": "2e8f9d30-8c76-452c-bdd5-1343e42a2168",
   "metadata": {},
   "outputs": [
    {
     "name": "stdout",
     "output_type": "stream",
     "text": [
      "CPU times: user 3.27 s, sys: 399 ms, total: 3.67 s\n",
      "Wall time: 3.88 s\n"
     ]
    },
    {
     "data": {
      "text/plain": [
       "(77500, 18)"
      ]
     },
     "execution_count": 51,
     "metadata": {},
     "output_type": "execute_result"
    }
   ],
   "source": [
    "%%time\n",
    "bloc_types = { \n",
    "  'Общество/Россия': 1,\n",
    "  'Экономика': 4,\n",
    "  'Силовые структуры': 37, \n",
    "  'Бывший СССР': 3,\n",
    "  'Спорт': 8,\n",
    "  'Забота о себе': 87,\n",
    "  'Туризм/Путешествия': 48, \n",
    "  'Наука и техника': 5,\n",
    "}\n",
    "bloc_types = dict(zip(bloc_types.values(), bloc_types.keys()))\n",
    "train_df = pd.DataFrame()\n",
    "for filepath in glob.glob('data/train_raw/*.csv'):\n",
    "    bloc = filepath.split('/')[-1].split('_')[0].replace('bloc', '')\n",
    "    if not bloc.isnumeric(): continue\n",
    "    name = bloc_types.get(int(bloc), None)\n",
    "    assert name is not None, name\n",
    "    _df = pd.read_csv(filepath)\n",
    "    _df['news_topic'] = name\n",
    "    train_df = pd.concat([train_df, _df])\n",
    "train_df.shape"
   ]
  },
  {
   "cell_type": "code",
   "execution_count": 53,
   "id": "74a1283f-4e6f-4d28-99c8-44b6167ae084",
   "metadata": {},
   "outputs": [
    {
     "data": {
      "text/plain": [
       "news_topic\n",
       "Туризм/Путешествия    10000\n",
       "Спорт                 10000\n",
       "Бывший СССР           10000\n",
       "Наука и техника       10000\n",
       "Забота о себе         10000\n",
       "Силовые структуры     10000\n",
       "Общество/Россия       10000\n",
       "Экономика              7500\n",
       "Name: count, dtype: int64"
      ]
     },
     "execution_count": 53,
     "metadata": {},
     "output_type": "execute_result"
    }
   ],
   "source": [
    "train_df.news_topic.value_counts()"
   ]
  },
  {
   "cell_type": "code",
   "execution_count": 54,
   "id": "148aa93e-cd15-4f98-bc8d-ecea3d8146a1",
   "metadata": {},
   "outputs": [
    {
     "data": {
      "text/plain": [
       "Unnamed: 0       0\n",
       "docid            0\n",
       "url              0\n",
       "title            0\n",
       "modified         0\n",
       "lastmodtime      0\n",
       "type             0\n",
       "domain           0\n",
       "status           0\n",
       "part             0\n",
       "bloc             0\n",
       "tags             0\n",
       "image_url      159\n",
       "pubdate          0\n",
       "text             0\n",
       "rightcol         0\n",
       "snippet         21\n",
       "news_topic       0\n",
       "dtype: int64"
      ]
     },
     "execution_count": 54,
     "metadata": {},
     "output_type": "execute_result"
    }
   ],
   "source": [
    "train_df.isna().sum()"
   ]
  },
  {
   "cell_type": "code",
   "execution_count": 58,
   "id": "c8ae1563-cef7-459e-a02a-71e2b739c296",
   "metadata": {},
   "outputs": [
    {
     "name": "stdout",
     "output_type": "stream",
     "text": [
      "241M\tdata/train.csv\n"
     ]
    }
   ],
   "source": [
    "train_df.drop(columns='Unnamed: 0').to_csv('data/train.csv')\n",
    "!du -hs data/train.csv"
   ]
  },
  {
   "cell_type": "code",
   "execution_count": null,
   "id": "d7b8e801-335b-4bcd-8228-ef3e1e570d9e",
   "metadata": {},
   "outputs": [],
   "source": []
  },
  {
   "cell_type": "code",
   "execution_count": null,
   "id": "1e544e30-2e26-47cd-a039-f5b97a45728f",
   "metadata": {},
   "outputs": [],
   "source": []
  },
  {
   "cell_type": "code",
   "execution_count": null,
   "id": "faf52bd8-96c6-4e81-8eb1-f7fc776d48cf",
   "metadata": {},
   "outputs": [],
   "source": []
  },
  {
   "cell_type": "code",
   "execution_count": null,
   "id": "85137fe0-9685-4dc1-bc0b-b73350fc36f1",
   "metadata": {},
   "outputs": [],
   "source": []
  }
 ],
 "metadata": {
  "kernelspec": {
   "display_name": "Python 3 (ipykernel)",
   "language": "python",
   "name": "python3"
  },
  "language_info": {
   "codemirror_mode": {
    "name": "ipython",
    "version": 3
   },
   "file_extension": ".py",
   "mimetype": "text/x-python",
   "name": "python",
   "nbconvert_exporter": "python",
   "pygments_lexer": "ipython3",
   "version": "3.11.10"
  }
 },
 "nbformat": 4,
 "nbformat_minor": 5
}
