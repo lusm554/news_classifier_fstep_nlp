{
 "cells": [
  {
   "cell_type": "code",
   "execution_count": 2,
   "id": "fe5ef2a6-ab76-4962-9be1-9bc415de5446",
   "metadata": {},
   "outputs": [
    {
     "data": {
      "text/plain": [
       "'3.11.10 | packaged by conda-forge | (main, Sep 30 2024, 17:56:25) [GCC 13.3.0]'"
      ]
     },
     "execution_count": 2,
     "metadata": {},
     "output_type": "execute_result"
    }
   ],
   "source": [
    "import sys; sys.version"
   ]
  },
  {
   "cell_type": "code",
   "execution_count": 3,
   "id": "25b7e0a5-6463-43d4-94d4-847fd89c2730",
   "metadata": {},
   "outputs": [],
   "source": [
    "import pandas as pd\n",
    "import glob"
   ]
  },
  {
   "cell_type": "code",
   "execution_count": 4,
   "id": "4eefdb25-8a45-4107-9b7b-af3018aa73d6",
   "metadata": {},
   "outputs": [
    {
     "name": "stdout",
     "output_type": "stream",
     "text": [
      "77M\tdata/test_news.csv\n",
      "241M\tdata/train.csv\n",
      "252M\tdata/train_raw\n"
     ]
    }
   ],
   "source": [
    "!du -hs data/*"
   ]
  },
  {
   "cell_type": "code",
   "execution_count": 5,
   "id": "2e8f9d30-8c76-452c-bdd5-1343e42a2168",
   "metadata": {},
   "outputs": [
    {
     "name": "stdout",
     "output_type": "stream",
     "text": [
      "CPU times: user 3.23 s, sys: 378 ms, total: 3.61 s\n",
      "Wall time: 3.81 s\n"
     ]
    },
    {
     "data": {
      "text/plain": [
       "(77500, 18)"
      ]
     },
     "execution_count": 5,
     "metadata": {},
     "output_type": "execute_result"
    }
   ],
   "source": [
    "%%time\n",
    "bloc_types_src = {\n",
    "  'Общество/Россия': 1,\n",
    "  'Экономика': 4,\n",
    "  'Силовые структуры': 37, \n",
    "  'Бывший СССР': 3,\n",
    "  'Спорт': 8,\n",
    "  'Забота о себе': 87,\n",
    "  'Туризм/Путешествия': 48, \n",
    "  'Наука и техника': 5,\n",
    "}\n",
    "bloc_types = dict(zip(bloc_types_src.values(), bloc_types_src.keys()))\n",
    "train_df = pd.DataFrame()\n",
    "for filepath in glob.glob('data/train_raw/*.csv'):\n",
    "    bloc = filepath.split('/')[-1].split('_')[0].replace('bloc', '')\n",
    "    if not bloc.isnumeric(): continue\n",
    "    name = bloc_types.get(int(bloc), None)\n",
    "    assert name is not None, name\n",
    "    _df = pd.read_csv(filepath)\n",
    "    _df['news_topic'] = name\n",
    "    train_df = pd.concat([train_df, _df])\n",
    "train_df.shape"
   ]
  },
  {
   "cell_type": "code",
   "execution_count": 8,
   "id": "cdb242f2-074f-4792-88bc-0e738d61b32d",
   "metadata": {},
   "outputs": [],
   "source": [
    "train_df.drop(columns='Unnamed: 0', inplace=True)"
   ]
  },
  {
   "cell_type": "code",
   "execution_count": 13,
   "id": "c0b47ffc-19c4-4f1a-b509-fc18cc5becb6",
   "metadata": {},
   "outputs": [
    {
     "data": {
      "text/plain": [
       "target\n",
       "48    10000\n",
       "8     10000\n",
       "3     10000\n",
       "5     10000\n",
       "87    10000\n",
       "37    10000\n",
       "1     10000\n",
       "4      7500\n",
       "Name: count, dtype: int64"
      ]
     },
     "execution_count": 13,
     "metadata": {},
     "output_type": "execute_result"
    }
   ],
   "source": [
    "train_df['target'] = train_df.news_topic.map(bloc_types_src.get)\n",
    "train_df['target'].value_counts()"
   ]
  },
  {
   "cell_type": "code",
   "execution_count": 14,
   "id": "055dd472-d530-4626-a6df-a8adb17ed32e",
   "metadata": {},
   "outputs": [
    {
     "data": {
      "text/plain": [
       "Index(['docid', 'url', 'title', 'modified', 'lastmodtime', 'type', 'domain',\n",
       "       'status', 'part', 'bloc', 'tags', 'image_url', 'pubdate', 'text',\n",
       "       'rightcol', 'snippet', 'news_topic', 'target'],\n",
       "      dtype='object')"
      ]
     },
     "execution_count": 14,
     "metadata": {},
     "output_type": "execute_result"
    }
   ],
   "source": [
    "train_df.columns"
   ]
  },
  {
   "cell_type": "code",
   "execution_count": 15,
   "id": "148aa93e-cd15-4f98-bc8d-ecea3d8146a1",
   "metadata": {},
   "outputs": [
    {
     "data": {
      "text/plain": [
       "docid            0\n",
       "url              0\n",
       "title            0\n",
       "modified         0\n",
       "lastmodtime      0\n",
       "type             0\n",
       "domain           0\n",
       "status           0\n",
       "part             0\n",
       "bloc             0\n",
       "tags             0\n",
       "image_url      159\n",
       "pubdate          0\n",
       "text             0\n",
       "rightcol         0\n",
       "snippet         21\n",
       "news_topic       0\n",
       "target           0\n",
       "dtype: int64"
      ]
     },
     "execution_count": 15,
     "metadata": {},
     "output_type": "execute_result"
    }
   ],
   "source": [
    "train_df.isna().sum()"
   ]
  },
  {
   "cell_type": "code",
   "execution_count": 16,
   "id": "c8ae1563-cef7-459e-a02a-71e2b739c296",
   "metadata": {},
   "outputs": [
    {
     "name": "stdout",
     "output_type": "stream",
     "text": [
      "<class 'pandas.core.frame.DataFrame'>\n",
      "Index: 77500 entries, 0 to 499\n",
      "Data columns (total 3 columns):\n",
      " #   Column      Non-Null Count  Dtype \n",
      "---  ------      --------------  ----- \n",
      " 0   target      77500 non-null  int64 \n",
      " 1   news_topic  77500 non-null  object\n",
      " 2   text        77500 non-null  object\n",
      "dtypes: int64(1), object(2)\n",
      "memory usage: 2.4+ MB\n"
     ]
    }
   ],
   "source": [
    "clear_train_df = train_df[['target', 'news_topic', 'text']]\n",
    "clear_train_df.info()"
   ]
  },
  {
   "cell_type": "code",
   "execution_count": 18,
   "id": "faf52bd8-96c6-4e81-8eb1-f7fc776d48cf",
   "metadata": {},
   "outputs": [
    {
     "name": "stdout",
     "output_type": "stream",
     "text": [
      "177M\tdata/train_news.csv\n"
     ]
    }
   ],
   "source": [
    "clear_train_df.to_csv('data/train_news.csv', index=False)\n",
    "!du -hs data/train_news.csv"
   ]
  },
  {
   "cell_type": "code",
   "execution_count": null,
   "id": "85137fe0-9685-4dc1-bc0b-b73350fc36f1",
   "metadata": {},
   "outputs": [],
   "source": []
  }
 ],
 "metadata": {
  "kernelspec": {
   "display_name": "Python 3 (ipykernel)",
   "language": "python",
   "name": "python3"
  },
  "language_info": {
   "codemirror_mode": {
    "name": "ipython",
    "version": 3
   },
   "file_extension": ".py",
   "mimetype": "text/x-python",
   "name": "python",
   "nbconvert_exporter": "python",
   "pygments_lexer": "ipython3",
   "version": "3.11.10"
  }
 },
 "nbformat": 4,
 "nbformat_minor": 5
}
